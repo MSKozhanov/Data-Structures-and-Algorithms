{
 "cells": [
  {
   "cell_type": "markdown",
   "id": "fifteen-sailing",
   "metadata": {},
   "source": [
    "# Лабораторная работа №4\n",
    "## Выполнил студент группы Кожанов Михаил Сергеевич"
   ]
  },
  {
   "cell_type": "markdown",
   "id": "arctic-stocks",
   "metadata": {},
   "source": [
    "Реализовать следующие структуры данных:\n",
    "  \n",
    "● <b> Стек (stack): </b>  \n",
    "Операции для стека: \n",
    "<i> инициализация, проверка на пустоту, добавление нового элемента в начало, извлечение элемента из начала;  </i>  \n",
    "  \n",
    "● <b> Дек (двусторонняя очередь, deque):  </b>  \n",
    "Операции для дека: \n",
    "<i> инициализация, проверка на пустоту, добавление нового элемента в начало, добавление нового элемента в конец, извлечение элемента из начала, извлечение элемента из конца. </i>  \n",
    "  \n",
    "<i> Разработать программу обработки данных, содержащихся в заранее подготовленном txt-файле, в соответствии с заданиями, применив указанную в задании структуру данных. Результат работы программы вывести на экран и сохранить в отдельном txt-файле. </i>"
   ]
  },
  {
   "cell_type": "code",
   "execution_count": 19,
   "id": "79f5127f",
   "metadata": {},
   "outputs": [],
   "source": [
    "import random"
   ]
  },
  {
   "cell_type": "code",
   "execution_count": 5,
   "id": "e31bb9ea",
   "metadata": {},
   "outputs": [],
   "source": [
    "class LinkedNode:\n",
    "#Двунаправленный связный список\n",
    "    def __init__(self, value=None):\n",
    "        self.value = value\n",
    "        self.right = None\n",
    "        self.left = None\n"
   ]
  },
  {
   "cell_type": "code",
   "execution_count": 4,
   "id": "4a65e648",
   "metadata": {},
   "outputs": [],
   "source": [
    "class Stack:\n",
    "#инициализация\n",
    "    def __init__(self):\n",
    "        self.head = LinkedNode()\n",
    "        self.size = 0\n",
    "# очистка\n",
    "    def is_empty(self):\n",
    "        return self.size == 0\n",
    "    \n",
    "    \n",
    "#Добавить обьект на вершину стека\n",
    "    def push(self, value):\n",
    "        if self.size > 0:\n",
    "#Создаем контейнер ля эл\n",
    "            node = LinkedNode(value)\n",
    "#эл справа присваиваем голову  \n",
    "            node.right = self.head\n",
    "# присваиваем новое значение голове \n",
    "            self.head = node\n",
    "        else:\n",
    "#присваиваем значение,меняем размер \n",
    "            self.head.value = value\n",
    "        self.size += 1\n",
    "        \n",
    "        \n",
    "# возвращает обьект с вершины и удаляет   \n",
    "    def pop(self):\n",
    "# Проверка на пустоту \n",
    "        if self.is_empty():\n",
    "            raise Exception(\" \")\n",
    "#приваиваем значение головы\n",
    "        remove = self.head\n",
    "        if self.size > 1:\n",
    "#присваиваем голове эл справа от предыдущей головы \n",
    "# 7 4 3 5 - голова 4 \n",
    "            self.head = remove.right\n",
    "        self.size -= 1\n",
    "#возвращаем начальное значение\n",
    "        return remove.value\n",
    "    \n",
    "# возвращает обьект с вершины     \n",
    "    def peek(self):\n",
    "        if self.is_empty():\n",
    "            raise Exception(\" \")\n",
    "        return self.head.value\n",
    "    \n",
    "#возвращает длину стека    \n",
    "    def __len__(self):\n",
    "        return self.size\n",
    "#наоборот    \n",
    "    def reverse(self):\n",
    "#голова предыдущ след\n",
    "        current = self.head\n",
    "        prev = None\n",
    "        next = None\n",
    "#пока есть элементы  \n",
    "        while current is not None:\n",
    "            next = current.right\n",
    "            current.right = prev\n",
    "            prev = current\n",
    "            current = next\n",
    "\n",
    "        self.head = prev\n"
   ]
  },
  {
   "cell_type": "code",
   "execution_count": 3,
   "id": "aa5328a8",
   "metadata": {},
   "outputs": [],
   "source": [
    "class Deque:\n",
    "    def __init__(self):\n",
    "        self.head = LinkedNode()\n",
    "        self.tail = self.head\n",
    "        self.size = 0\n",
    "    \n",
    "    def is_empty(self):\n",
    "        return self.size == 0\n",
    "\n",
    "    def push_left(self, value):\n",
    "        if self.size > 0:\n",
    "            node = LinkedNode(value)\n",
    "            node.right = self.tail\n",
    "            self.tail.left = node\n",
    "            self.tail = node\n",
    "        else:\n",
    "            self.tail.value = value\n",
    "        self.size += 1\n",
    "\n",
    "    def push(self, value):\n",
    "        if self.size > 0:\n",
    "            node = LinkedNode(value)\n",
    "            node.left = self.head\n",
    "            self.head.right = node\n",
    "            self.head = node\n",
    "        else:\n",
    "            self.head.value = value\n",
    "        self.size += 1\n",
    "    \n",
    "    def pop_left(self):\n",
    "        if self.is_empty():\n",
    "            raise Exception(\" \")\n",
    "        remove = self.tail\n",
    "        if self.size > 1:\n",
    "            self.tail = remove.right\n",
    "        self.size -= 1\n",
    "        return remove.value\n",
    "    \n",
    "    def pop(self):\n",
    "        if self.is_empty():\n",
    "            raise Exception(\" \")\n",
    "        remove = self.head\n",
    "        if self.size > 1:\n",
    "            self.head = remove.left\n",
    "        self.size -= 1\n",
    "        return remove.value\n",
    "    \n",
    "    def peek(self):\n",
    "        if self.is_empty():\n",
    "            raise Exception(\" \")\n",
    "        return self.head.value\n",
    "    \n",
    "    def peek_left(self):\n",
    "        if self.is_empty():\n",
    "            raise Exception(\" \")\n",
    "        return self.tail.value\n",
    "\n",
    "    def __len__(self):\n",
    "        return self.size"
   ]
  },
  {
   "cell_type": "markdown",
   "id": "5d7edb08",
   "metadata": {
    "scrolled": true
   },
   "source": [
    "### Задание №1\n",
    "Отсортировать строки файла, содержащие названия книг, в алфавитном порядке с использованием двух деков."
   ]
  },
  {
   "cell_type": "code",
   "execution_count": 18,
   "id": "17702ade",
   "metadata": {},
   "outputs": [
    {
     "name": "stdout",
     "output_type": "stream",
     "text": [
      "Anna Karenina\n",
      "\n",
      "Cherry Orchard\n",
      "\n",
      "Dead souls\n",
      "\n",
      "Dubrovsky\n",
      "\n",
      "Gooseberry\n",
      "\n",
      "Idiot\n",
      "\n",
      "Morphine\n",
      "\n",
      "Players\n",
      "\n",
      "Queen of Spades\n",
      "\n",
      "The Brothers Karamazov\n",
      "\n",
      "The Master and Margarita\n",
      "\n",
      "War and peace\n",
      "\n",
      "Woe from wit\n",
      "\n"
     ]
    }
   ],
   "source": [
    "def alf():\n",
    "    with open('books.txt', 'r') as books:\n",
    "#деки\n",
    "        q1 = Deque()\n",
    "        q2 = Deque()\n",
    "#добавляем все строки \n",
    "        for line in books:\n",
    "            q1.push(line)\n",
    "#пока 1 дек не опустел\n",
    "        while not q1.is_empty():\n",
    "#переписываю в х самый правый эл\n",
    "            x = q1.pop()\n",
    "#пока 2 дек не пустой и самый правый эл < самого правого из 1 дека\n",
    "            while not q2.is_empty() and q2.peek() < x:\n",
    "        #слева добавляю самый правый эл из 2 дека в 1 дек\n",
    "                q1.push_left(q2.pop())\n",
    "#вправо во второй дек х\n",
    "            q2.push(x)\n",
    "        while not q2.is_empty():\n",
    "            print(q2.pop())\n",
    "alf()"
   ]
  },
  {
   "cell_type": "markdown",
   "id": "49fbd2a0",
   "metadata": {},
   "source": [
    "### Задание №2\n",
    "Дек содержит последовательность символов для шифровки сообщений. Дан текстовый файл, содержащий зашифрованное сообщение. Пользуясь деком, расшифровать текст. \n",
    "Известно, что при шифровке каждый символ сообщения заменялся следующим за ним в деке по часовой стрелке через один."
   ]
  },
  {
   "cell_type": "code",
   "execution_count": 20,
   "id": "81cab7a8",
   "metadata": {},
   "outputs": [],
   "source": [
    "#кодирование \n",
    "def encode_char(c):\n",
    "#проход по деку \n",
    "    for i in range(len(keyRing)):\n",
    "#запись слева \n",
    "        x = keyRing.pop_left()\n",
    "        if x == c:\n",
    "            keyRing.push(x)\n",
    "            val = keyRing.pop_left()\n",
    "            keyRing.push(val)\n",
    "            return val\n",
    "        keyRing.push(x)\n",
    "#декодирование\n",
    "def decode_char(c):\n",
    "    for i in range(len(keyRing)):\n",
    "        x = keyRing.pop()\n",
    "        if x == c:\n",
    "            keyRing.push_left(x)\n",
    "            val = keyRing.pop()\n",
    "            keyRing.push_left(val)\n",
    "            return val\n",
    "        keyRing.push_left(x)"
   ]
  },
  {
   "cell_type": "code",
   "execution_count": 24,
   "id": "f1502c90",
   "metadata": {},
   "outputs": [
    {
     "name": "stdout",
     "output_type": "stream",
     "text": [
      "zxsfedimgkathyqlcvjwbnuorp\n",
      "Закодированный текст:\n",
      "ydccr brpci\n",
      "Раскодированный текст:\n",
      "hello world\n"
     ]
    }
   ],
   "source": [
    "alphabet = list('abcdefghijklmnopqrstuvwxyz')\n",
    "random.shuffle(alphabet)\n",
    "alphabet = ''.join(alphabet)\n",
    "print(alphabet)\n",
    "keyRing = Deque()\n",
    "for letter in alphabet:\n",
    "    keyRing.push(letter)\n",
    "def rashifr():\n",
    "    text = 'hello world'.lower()\n",
    "#зашифровка\n",
    "    encoded = ''\n",
    "    for letter in text:\n",
    "        if encoded_letter := encode_char(letter):\n",
    "            encoded += encoded_letter\n",
    "        else:\n",
    "            encoded += letter\n",
    "    print('Закодированный текст:')\n",
    "    print(encoded)\n",
    "    print('Раскодированный текст:')\n",
    "    decoded = ''\n",
    "#расшифровка\n",
    "    for letter in encoded:\n",
    "        if decoded_letter := decode_char(letter):\n",
    "            decoded += decoded_letter\n",
    "        else:\n",
    "            decoded += letter\n",
    "    print(decoded)\n",
    "rashifr()"
   ]
  },
  {
   "cell_type": "markdown",
   "id": "c0894f47",
   "metadata": {},
   "source": [
    "### Задание №3\n",
    "Даны три стержня и n дисков различного размера. Диски можно надевать на стержни, образуя из них башни. Перенести n дисков со стержня А на стержень С, сохранив их первоначальный порядок. При переносе дисков необходимо соблюдать следующие правила:\n",
    "- на каждом шаге со стержня на стержень переносить только один диск;\n",
    "- диск нельзя помещать на диск меньшего размера;\n",
    "- для промежуточного хранения можно использовать стержень В.\n",
    "Реализовать алгоритм, используя три стека вместо стержней А, В, С. Информация о дисках хранится в исходном файле."
   ]
  },
  {
   "cell_type": "code",
   "execution_count": 25,
   "id": "9e91a9d4",
   "metadata": {},
   "outputs": [
    {
     "name": "stdout",
     "output_type": "stream",
     "text": [
      "1\n",
      "2\n",
      "3\n",
      "4\n"
     ]
    }
   ],
   "source": [
    "# создаем три стержня с усл. LIFO\n",
    "A = Stack()\n",
    "B = Stack()\n",
    "C = Stack()\n",
    "#i=0\n",
    "disks = 4\n",
    "# от 10 до 0 шаг -1 ё\n",
    "# Добавляем все диски на А с большего к меньшему \n",
    "for i in range(disks, 0, -1):\n",
    "    A.push(i)\n",
    "\n",
    "def move(a, b):\n",
    "# если исп.стек пустой и след. > 0 \n",
    "    if len(a) == 0 and len(b) > 0:\n",
    "#удаляем из b и перекладываем в a \n",
    "        a.push(b.pop())\n",
    "    elif len(a) > 0 and len(b) == 0:\n",
    "        b.push(a.pop())\n",
    "#сравниваем первые элементы \n",
    "    elif a.peek() > b.peek():\n",
    "        a.push(b.pop())\n",
    "    else:\n",
    "        b.push(a.pop())\n",
    "def task(A,B,C):\n",
    "#если четное\n",
    "    if disks % 2 == 0:\n",
    "#пока С не заполнено \n",
    "        while len(C) != disks:\n",
    "            move(A, B)\n",
    "            move(A, C)\n",
    "            move(B, C)\n",
    "       # i=i+1\n",
    "       # print(i)\n",
    "    else:\n",
    "        while len(C) != disks:\n",
    "            move(A, C)\n",
    "            move(A, B)\n",
    "            move(C, B)\n",
    "            move(A, C)\n",
    "            move(B, A)\n",
    "            move(B, C)\n",
    "            move(A, C)\n",
    "\n",
    "    while not C.is_empty():\n",
    "        print(C.pop())\n",
    "task(A,B,C)"
   ]
  },
  {
   "cell_type": "markdown",
   "id": "e5b0be17",
   "metadata": {},
   "source": [
    "### Задание №4\n",
    "Дан текстовый файл с программой на алгоритмическом языке. За один просмотр файла проверить баланс круглых скобок в тексте, используя стек."
   ]
  },
  {
   "cell_type": "code",
   "execution_count": 26,
   "id": "5b1df60a",
   "metadata": {},
   "outputs": [
    {
     "name": "stdout",
     "output_type": "stream",
     "text": [
      "False\n",
      "True\n"
     ]
    }
   ],
   "source": [
    "def check_brackets(string):\n",
    "    bracket_stack = Stack()\n",
    "    for i in string:\n",
    "        if i == '(':\n",
    "#открывающую скобку в стек \n",
    "            bracket_stack.push(i)\n",
    "        elif i == ')':\n",
    "#если начинается с ) то false \n",
    "            if bracket_stack.is_empty():\n",
    "                return False\n",
    "#удаляем из стека \n",
    "            bracket_stack.pop()\n",
    "#если все эл закончились true \n",
    "    return bracket_stack.is_empty()\n",
    "\n",
    "print(check_brackets('()())((())(()(())()'))\n",
    "print(check_brackets('(()())()()()()(()(()(())()))'))"
   ]
  },
  {
   "cell_type": "markdown",
   "id": "c44cdd6b",
   "metadata": {},
   "source": [
    "### Задание №5\n",
    "Дан текстовый файл с программой на алгоритмическом языке. За один просмотр файла проверить баланс квадратных скобок в тексте, используя дек."
   ]
  },
  {
   "cell_type": "code",
   "execution_count": 27,
   "id": "36b8f400",
   "metadata": {},
   "outputs": [
    {
     "name": "stdout",
     "output_type": "stream",
     "text": [
      "False\n",
      "True\n"
     ]
    }
   ],
   "source": [
    "def check_square_brackets(string):\n",
    "    bracket_stack = Deque()\n",
    "    for i in string:\n",
    "        if i == '[':\n",
    "            bracket_stack.push(i)\n",
    "        elif i == ']':\n",
    "            if bracket_stack.is_empty():\n",
    "                return False\n",
    "            bracket_stack.pop()\n",
    "    return bracket_stack.is_empty()\n",
    "\n",
    "print(check_square_brackets('[][[][[[[]][[]]]]]]'))\n",
    "print(check_square_brackets('[[][][][[][]][][[][][][][]]][]'))"
   ]
  },
  {
   "cell_type": "markdown",
   "id": "59d13dc7",
   "metadata": {},
   "source": [
    "### Задание №6\n",
    "Дан файл из символов. Используя стек, за один просмотр файла напечатать сначала все цифры, затем все буквы, и, наконец, все остальные символы, сохраняя исходный порядок в каждой группе символов."
   ]
  },
  {
   "cell_type": "code",
   "execution_count": 7,
   "id": "297e36c2",
   "metadata": {},
   "outputs": [
    {
     "name": "stdout",
     "output_type": "stream",
     "text": [
      "1533ГосударьвеликийкнязьмосковскийивсеяРусисгодапервыйвенчанныйцарьвсеяРуси,         ,     .\n"
     ]
    }
   ],
   "source": [
    "def zadan6():\n",
    "    text = 'Государь, великий князь московский и всея Руси с 1533 года, первый венчанный царь всея Руси.'\n",
    "\n",
    "    letters = Stack()\n",
    "    digits = Stack()\n",
    "    others = Stack()\n",
    "\n",
    "    for c in text:\n",
    "#если буквы \n",
    "        if c.isalpha():\n",
    "            letters.push(c)\n",
    "#если цифры\n",
    "        elif c.isdigit():\n",
    "            digits.push(c)\n",
    "#другие знаки\n",
    "        else:\n",
    "            others.push(c)\n",
    "\n",
    "    new_text = ''\n",
    "\n",
    "#наоборот      \n",
    "    letters.reverse()\n",
    "    digits.reverse()\n",
    "    others.reverse()\n",
    "\n",
    "#print(digits.pop())\n",
    " \n",
    "#добавляем цифры\n",
    "    while not digits.is_empty():\n",
    "        new_text += digits.pop()\n",
    "#буквы\n",
    "    while not letters.is_empty():\n",
    "        new_text += letters.pop()\n",
    "#другие\n",
    "    while not others.is_empty():\n",
    "        new_text += others.pop()\n",
    "\n",
    "    print(new_text)\n",
    "zadan6()"
   ]
  },
  {
   "cell_type": "markdown",
   "id": "973f68bd",
   "metadata": {},
   "source": [
    "### Задание №7\n",
    "Дан файл из целых чисел. Используя дек, за один просмотр файла напечатать сначала все отрицательные числа, затем все положительные числа, сохраняя исходный порядок в каждой группе."
   ]
  },
  {
   "cell_type": "code",
   "execution_count": 30,
   "id": "c56fad66",
   "metadata": {},
   "outputs": [
    {
     "name": "stdout",
     "output_type": "stream",
     "text": [
      "[3, -6, 7, -2, -5, 2, 5, -8, -1, -7]\n",
      "-6\n",
      "-2\n",
      "-5\n",
      "-8\n",
      "-1\n",
      "-7\n",
      "3\n",
      "7\n",
      "2\n",
      "5\n"
     ]
    }
   ],
   "source": [
    "#формирую полож и отриц числа\n",
    "numbers = [random.randint(-10, 10) for i in range(10)]\n",
    "print(numbers)\n",
    "\n",
    "deque = Deque()\n",
    "#цикл по элементам \n",
    "for n in numbers:\n",
    "#если число отрицательное \n",
    "    if n < 0:\n",
    "#добавляю в начало \n",
    "        deque.push_left(n)\n",
    "    else:\n",
    "#положительные в конец \n",
    "        deque.push(n)\n",
    "#пока дек не пуст \n",
    "#исп дек чтобы сохранить порядок \n",
    "while not deque.is_empty():\n",
    "    x = deque.pop_left()\n",
    "    if x < 0:\n",
    "        deque.push(x)\n",
    "    else:\n",
    "        deque.push_left(x)\n",
    "        break\n",
    "\n",
    "while not deque.is_empty():\n",
    "#вывод отриц \n",
    "    x = deque.pop()\n",
    "    if x < 0:\n",
    "        print(x)\n",
    "    else:\n",
    "#полож в дек \n",
    "        deque.push(x)\n",
    "        break\n",
    "#вывод полож\n",
    "while not deque.is_empty():\n",
    "    print(deque.pop_left())"
   ]
  },
  {
   "cell_type": "markdown",
   "id": "b9228191",
   "metadata": {},
   "source": [
    "### Задание №8\n",
    "Дан текстовый файл. Используя стек, сформировать новый текстовый файл, содержащий строки исходного файла, записанные в обратном порядке: первая строка становится последней, вторая – предпоследней и т.д."
   ]
  },
  {
   "cell_type": "code",
   "execution_count": 32,
   "id": "981fbdfe",
   "metadata": {},
   "outputs": [
    {
     "name": "stdout",
     "output_type": "stream",
     "text": [
      "War and peace\n",
      "Idiot\n",
      "Dead souls\n",
      "Players\n",
      "Anna Karenina\n",
      "The Brothers Karamazov\n",
      "Woe from wit\n",
      "Cherry Orchard\n",
      "Gooseberry\n",
      "Dubrovsky\n",
      "Queen of Spades\n",
      "Morphine\n",
      "The Master and Margarita\n",
      "\n",
      "The Master and Margarita\n",
      "Morphine\n",
      "Queen of Spades\n",
      "Dubrovsky\n",
      "Gooseberry\n",
      "Cherry Orchard\n",
      "Woe from wit\n",
      "The Brothers Karamazov\n",
      "Anna Karenina\n",
      "Players\n",
      "Dead souls\n",
      "Idiot\n",
      "War and peace\n"
     ]
    }
   ],
   "source": [
    "def rev():\n",
    "    with open('books.txt', 'r') as books:\n",
    "        stack = Stack()\n",
    "        for line in books:\n",
    "#копия строки \n",
    "            line = line.strip()\n",
    "#Начальный вид\n",
    "            print(line)\n",
    "#добавляем 1 строку\n",
    "            stack.push(line)\n",
    "        print()\n",
    "        while not stack.is_empty():\n",
    "            print(stack.pop())\n",
    "rev()"
   ]
  },
  {
   "cell_type": "markdown",
   "id": "rental-jerusalem",
   "metadata": {},
   "source": [
    "### Вывод\n"
   ]
  },
  {
   "cell_type": "markdown",
   "id": "0c2b8899",
   "metadata": {},
   "source": []
  }
 ],
 "metadata": {
  "kernelspec": {
   "display_name": "Python 3 (ipykernel)",
   "language": "python",
   "name": "python3"
  },
  "language_info": {
   "codemirror_mode": {
    "name": "ipython",
    "version": 3
   },
   "file_extension": ".py",
   "mimetype": "text/x-python",
   "name": "python",
   "nbconvert_exporter": "python",
   "pygments_lexer": "ipython3",
   "version": "3.10.2"
  }
 },
 "nbformat": 4,
 "nbformat_minor": 5
}
