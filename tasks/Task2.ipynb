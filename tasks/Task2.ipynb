{
 "cells": [
  {
   "cell_type": "markdown",
   "id": "arctic-stocks",
   "metadata": {},
   "source": [
    "### Задание №1\n",
    "Массив A состоит из целых положительных чисел длин отрезков. Составьте из трех отрезков такой треугольник, чтобы его периметр был максимально возможным. Если невозможно составить треугольник с положительной площадью функция возвращает 0."
   ]
  },
  {
   "cell_type": "code",
   "execution_count": 30,
   "id": "caring-truck",
   "metadata": {
    "scrolled": false
   },
   "outputs": [
    {
     "name": "stdout",
     "output_type": "stream",
     "text": [
      "\n",
      "Задание №1.\n",
      "\n",
      "[1, 61, 3, 30, 61, 1, 5]\n",
      "[1, 1, 3, 5, 30, 61, 61]\n",
      "Стороны треугольника с максимальным периметром: 30 61 61\n",
      "Периметр = 152\n",
      "Площадь = 886.9047299456689\n"
     ]
    }
   ],
   "source": [
    "\"Задание №1. Треугольник с максимальным периметром\"\n",
    "print(\"\\nЗадание №1.\\n\")\n",
    "from random import randint\n",
    "from math import sqrt\n",
    "\n",
    "\n",
    "arr = []\n",
    "r = randint(3, 10)\n",
    "for i in range(r):\n",
    "    arr.append(randint(1, 100))\n",
    "print(arr)\n",
    "arr.sort()\n",
    "print(arr)\n",
    "\n",
    "\n",
    "def Triangle(arr):\n",
    "    el1 = -1\n",
    "    el2 = -2\n",
    "    el3 = -3\n",
    "    counter = 0\n",
    "    while arr[el1] >= arr[el2] + arr[el3] or arr[el2] >= arr[el1] + arr[el3] or arr[el3] >= arr[el1] + arr[el2]:\n",
    "        counter += 1\n",
    "        if counter + 2 == len(arr):\n",
    "            break\n",
    "        elif counter % 3 == 1:\n",
    "            el3 -= 1\n",
    "        elif counter % 3 == 2:\n",
    "            el2 -= 1\n",
    "        elif counter % 3 == 0:\n",
    "            el1 -= 1\n",
    "\n",
    "    if counter + 2 != len(arr):\n",
    "        print(\"Стороны треугольника с максимальным периметром:\", arr[el3], arr[el2], arr[el1])\n",
    "        p = arr[el3] + arr[el2] + arr[el1]\n",
    "        print(\"Периметр =\", p)\n",
    "        pol = p / 2\n",
    "        s = sqrt(pol * (pol - arr[el3]) * (pol - arr[el2]) * (pol - arr[el1]))\n",
    "        if s <= 0:\n",
    "            print(\"Площадь = 0\")\n",
    "        else:\n",
    "            print(\"Площадь =\", s)\n",
    "    else:\n",
    "        print(\"В данном массиве не существует треугольников!\")\n",
    "\n",
    "\n",
    "Triangle(arr)\n"
   ]
  },
  {
   "cell_type": "markdown",
   "id": "maritime-conversation",
   "metadata": {},
   "source": [
    "### Задание №2\n",
    "Дан массив неотрицательных целых чисел nums. Расположите их в таком порядке, чтобы вместе они образовали максимально возможное число. Замечание: Результат может быть очень большим числом, поэтому представьте его как string, а не integer."
   ]
  },
  {
   "cell_type": "code",
   "execution_count": 65,
   "id": "alert-charm",
   "metadata": {
    "scrolled": false
   },
   "outputs": [
    {
     "name": "stdout",
     "output_type": "stream",
     "text": [
      "\n",
      "Задание №2.\n",
      "\n",
      "967156221715\n"
     ]
    }
   ],
   "source": [
    "\"Задача №2. Максимальное число\"\n",
    "print(\"\\nЗадание №2.\\n\")\n",
    "def maxNumber(L):\n",
    "    maxLength = len(str(max(L)))\n",
    "    L = map(str, L)\n",
    "\n",
    "    def sortKey(s):\n",
    "        return s + s[-1] * (maxLength - len(s))\n",
    "\n",
    "    sortedList = sorted(L, key=sortKey, reverse=True)\n",
    "    return ''.join(sortedList)\n",
    "\n",
    "print(maxNumber([15, 71, 17, 56, 22, 96]))"
   ]
  },
  {
   "cell_type": "markdown",
   "id": "catholic-roots",
   "metadata": {},
   "source": [
    "### Задание №3\n",
    "Дана матрица mat размером m * n, значения целочисленные. Напишите функцию, сортирующую каждую диагональ матрицы по возрастанию и возвращающую получившуюся матрицу."
   ]
  },
  {
   "cell_type": "code",
   "execution_count": 22,
   "id": "cleared-anniversary",
   "metadata": {
    "scrolled": false
   },
   "outputs": [
    {
     "name": "stdout",
     "output_type": "stream",
     "text": [
      "\n",
      "Задание №3.\n",
      "\n",
      "mat:\n",
      "[81, 41, 75, 89, 11]\n",
      "[12, 86, 61, 55, 78]\n",
      "[71, 88, 99, 97, 51]\n",
      "[17, 33, 85, 79, 58]\n",
      "[45, 83, 59, 69, 19]\n",
      "\n",
      "Sorted: \n",
      "[19, 41, 51, 78, 11]\n",
      "[12, 79, 58, 55, 89]\n",
      "[33, 69, 81, 61, 75]\n",
      "[17, 59, 85, 86, 97]\n",
      "[45, 83, 71, 88, 99]\n"
     ]
    }
   ],
   "source": [
    "\"Задача №3. Сортировка диагоналей в матрице\"\n",
    "print(\"\\nЗадание №3.\\n\")\n",
    "def sortDiag(mat):\n",
    "    # Размер матрицы\n",
    "    m, n = len(mat), len(mat[0])\n",
    "\n",
    "\n",
    "    temp = [[] for i in range(m + n)]\n",
    "\n",
    "\n",
    "    for i in range(m):\n",
    "        for j in range(n):\n",
    "            temp[i - j].append(mat[i][j])\n",
    "\n",
    "\n",
    "    for line in temp:\n",
    "        line.sort(reverse=True)\n",
    "\n",
    "\n",
    "    for i in range(m):\n",
    "        for j in range(n):\n",
    "\n",
    "            mat[i][j] = temp[i - j].pop()\n",
    "    return mat\n",
    "\n",
    "\n",
    "arr = [[81, 41, 75, 89, 11], [12, 86, 61, 55, 78], [71, 88, 99, 97, 51], [17, 33, 85, 79, 58],\n",
    "       [45, 83, 59, 69, 19]]\n",
    "print(\"mat:\")\n",
    "for l in arr:\n",
    "    print(l)\n",
    "\n",
    "print(\"\\nSorted: \")\n",
    "arr = sortDiag(arr)\n",
    "for l in arr:\n",
    "    print(l)"
   ]
  }
 ],
 "metadata": {
  "kernelspec": {
   "display_name": "Python 3 (ipykernel)",
   "language": "python",
   "name": "python3"
  },
  "language_info": {
   "codemirror_mode": {
    "name": "ipython",
    "version": 3
   },
   "file_extension": ".py",
   "mimetype": "text/x-python",
   "name": "python",
   "nbconvert_exporter": "python",
   "pygments_lexer": "ipython3",
   "version": "3.10.2"
  }
 },
 "nbformat": 4,
 "nbformat_minor": 5
}
